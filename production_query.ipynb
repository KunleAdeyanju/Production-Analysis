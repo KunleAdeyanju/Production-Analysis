{
 "cells": [
  {
   "cell_type": "markdown",
   "metadata": {},
   "source": [
    "### Setting Up Your Environment \n",
    "Connecting to database"
   ]
  },
  {
   "cell_type": "code",
   "execution_count": 18,
   "metadata": {},
   "outputs": [],
   "source": [
    "# Import the necessary libraries\n",
    "import sqlite3\n",
    "import pandas as pd\n",
    "\n",
    "# Setting up the database. DO NOT edit the code given below\n",
    "conn = sqlite3.connect('./database/production.db')"
   ]
  },
  {
   "cell_type": "code",
   "execution_count": 19,
   "metadata": {},
   "outputs": [
    {
     "data": {
      "text/html": [
       "<div>\n",
       "<style scoped>\n",
       "    .dataframe tbody tr th:only-of-type {\n",
       "        vertical-align: middle;\n",
       "    }\n",
       "\n",
       "    .dataframe tbody tr th {\n",
       "        vertical-align: top;\n",
       "    }\n",
       "\n",
       "    .dataframe thead th {\n",
       "        text-align: right;\n",
       "    }\n",
       "</style>\n",
       "<table border=\"1\" class=\"dataframe\">\n",
       "  <thead>\n",
       "    <tr style=\"text-align: right;\">\n",
       "      <th></th>\n",
       "      <th>Year</th>\n",
       "      <th>Period</th>\n",
       "      <th>Geo_Level</th>\n",
       "      <th>State_ANSI</th>\n",
       "      <th>Commodity_ID</th>\n",
       "      <th>Domain</th>\n",
       "      <th>Value</th>\n",
       "    </tr>\n",
       "  </thead>\n",
       "  <tbody>\n",
       "    <tr>\n",
       "      <th>0</th>\n",
       "      <td>2023</td>\n",
       "      <td>APR</td>\n",
       "      <td>STATE</td>\n",
       "      <td>6.0</td>\n",
       "      <td>6</td>\n",
       "      <td>TOTAL</td>\n",
       "      <td>208,807,000</td>\n",
       "    </tr>\n",
       "    <tr>\n",
       "      <th>1</th>\n",
       "      <td>2023</td>\n",
       "      <td>APR</td>\n",
       "      <td>STATE</td>\n",
       "      <td>16.0</td>\n",
       "      <td>6</td>\n",
       "      <td>TOTAL</td>\n",
       "      <td>86,452,000</td>\n",
       "    </tr>\n",
       "    <tr>\n",
       "      <th>2</th>\n",
       "      <td>2023</td>\n",
       "      <td>APR</td>\n",
       "      <td>STATE</td>\n",
       "      <td>17.0</td>\n",
       "      <td>6</td>\n",
       "      <td>TOTAL</td>\n",
       "      <td>5,068,000</td>\n",
       "    </tr>\n",
       "    <tr>\n",
       "      <th>3</th>\n",
       "      <td>2023</td>\n",
       "      <td>APR</td>\n",
       "      <td>STATE</td>\n",
       "      <td>19.0</td>\n",
       "      <td>6</td>\n",
       "      <td>TOTAL</td>\n",
       "      <td>31,512,000</td>\n",
       "    </tr>\n",
       "    <tr>\n",
       "      <th>4</th>\n",
       "      <td>2023</td>\n",
       "      <td>APR</td>\n",
       "      <td>STATE</td>\n",
       "      <td>27.0</td>\n",
       "      <td>6</td>\n",
       "      <td>TOTAL</td>\n",
       "      <td>69,728,000</td>\n",
       "    </tr>\n",
       "  </tbody>\n",
       "</table>\n",
       "</div>"
      ],
      "text/plain": [
       "   Year Period Geo_Level  State_ANSI  Commodity_ID Domain        Value\n",
       "0  2023    APR     STATE         6.0             6  TOTAL  208,807,000\n",
       "1  2023    APR     STATE        16.0             6  TOTAL   86,452,000\n",
       "2  2023    APR     STATE        17.0             6  TOTAL    5,068,000\n",
       "3  2023    APR     STATE        19.0             6  TOTAL   31,512,000\n",
       "4  2023    APR     STATE        27.0             6  TOTAL   69,728,000"
      ]
     },
     "metadata": {},
     "output_type": "display_data"
    }
   ],
   "source": [
    "query = ''' \n",
    "SELECT * \n",
    "FROM cheese_production \n",
    "LIMIT 5'''\n",
    "result = pd.read_sql(query, conn)\n",
    "display(result)"
   ]
  },
  {
   "cell_type": "markdown",
   "metadata": {},
   "source": [
    "### Close the Connection"
   ]
  },
  {
   "cell_type": "code",
   "execution_count": 16,
   "metadata": {},
   "outputs": [],
   "source": [
    "# Close the database connection \n",
    "conn.close()"
   ]
  }
 ],
 "metadata": {
  "kernelspec": {
   "display_name": "Python 3",
   "language": "python",
   "name": "python3"
  },
  "language_info": {
   "codemirror_mode": {
    "name": "ipython",
    "version": 3
   },
   "file_extension": ".py",
   "mimetype": "text/x-python",
   "name": "python",
   "nbconvert_exporter": "python",
   "pygments_lexer": "ipython3",
   "version": "3.11.9"
  }
 },
 "nbformat": 4,
 "nbformat_minor": 2
}
